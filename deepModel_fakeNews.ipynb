{
 "cells": [
  {
   "cell_type": "code",
   "execution_count": 1,
   "metadata": {},
   "outputs": [
    {
     "name": "stderr",
     "output_type": "stream",
     "text": [
      "Using TensorFlow backend.\n"
     ]
    }
   ],
   "source": [
    "import keras\n",
    "from keras.models import Sequential\n",
    "from keras.layers import Dense, Softmax, Dropout\n",
    "from keras import backend as K\n",
    "from keras.utils import to_categorical\n",
    "from keras.preprocessing.sequence import pad_sequences\n",
    "from keras import regularizers\n",
    "\n",
    "import numpy as np\n",
    "import numpy.random as random\n",
    "from nltk.tokenize import word_tokenize\n",
    "\n",
    "from sklearn.metrics import confusion_matrix\n",
    "from sklearn.utils import class_weight\n",
    "import pandas as pd\n",
    "import numpy as np \n",
    "import math"
   ]
  },
  {
   "cell_type": "code",
   "execution_count": 2,
   "metadata": {
    "collapsed": true
   },
   "outputs": [],
   "source": [
    "UNK_TOKEN = '__unk__'\n",
    "MAX_SEQUENCE_LENGTH = 50\n",
    "VOCAB_SIZE = 1500\n",
    "\n",
    "\n"
   ]
  },
  {
   "cell_type": "code",
   "execution_count": 3,
   "metadata": {},
   "outputs": [
    {
     "name": "stdout",
     "output_type": "stream",
     "text": [
      "['bias' 'bs' 'conspiracy' 'satire' 'hate' 'fake' 'junksci' 'state']\n",
      "2599\n",
      "7800\n",
      "2598\n"
     ]
    }
   ],
   "source": [
    "# get fake.csv from kaggle dataset\n",
    "data_read = pd.read_csv('fake.csv')\n",
    "data = data_read.sample(frac=1)\n",
    "\n",
    "split1 = int(math.ceil(len(data)*0.6))\n",
    "split2 = int(math.ceil(len(data)*0.8))\n",
    "train = data[:split1]\n",
    "val = data[split1+1:split2]\n",
    "test = data[split2+1:]\n",
    "\n",
    "print(data['type'].unique())\n",
    "print(len(val))\n",
    "print(len(train))\n",
    "print(len(test))"
   ]
  },
  {
   "cell_type": "markdown",
   "metadata": {},
   "source": [
    "# Preprocessing"
   ]
  },
  {
   "cell_type": "code",
   "execution_count": 4,
   "metadata": {},
   "outputs": [
    {
     "name": "stdout",
     "output_type": "stream",
     "text": [
      "7800\n"
     ]
    }
   ],
   "source": [
    "train_label_str, train_data = train['type'].values.tolist(), train['title'].values.tolist()\n",
    "val_label_str, val_data = val['type'].values.tolist(), val['title'].values.tolist()\n",
    "test_label_str, test_data = test['type'].values.tolist(), test['title'].values.tolist()\n",
    "type_d = data['type'].unique()\n",
    "myclass = []\n",
    "mylabels = {}\n",
    "emotions = {\n",
    "\t\"bias\":0,\n",
    "\t\"conspiracy\":1,\n",
    "\t\"fake\":2,\n",
    "\t\"bs\":3,\n",
    "\t\"satire\":4,\n",
    "\t\"hate\":5,\n",
    "\t\"junksci\":6,\n",
    "\t\"state\":7\n",
    "}\n",
    "for mytype in data['type'].values.tolist():\n",
    "    for key,value in emotions.items():\n",
    "        if mytype == key:\n",
    "            myclass.append(value)\n",
    "            mylabels[value] = key\n",
    "train_labels = myclass[:split1]\n",
    "val_labels = myclass[split1+1:split2]\n",
    "test_labels = myclass[split2+1:]\n",
    "len(emotions)\n",
    "print(len(train_labels))"
   ]
  },
  {
   "cell_type": "code",
   "execution_count": 5,
   "metadata": {},
   "outputs": [
    {
     "name": "stdout",
     "output_type": "stream",
     "text": [
      "[[u'kenyan', u'refugee', u'kills', u'co-worker', u',', u'self']]\n"
     ]
    }
   ],
   "source": [
    "\n",
    "# Preprocess data\n",
    "def preprocess(data):\n",
    "    # Tokenize (separate by space, punctuation etc) and lowercase all data\n",
    "    return [word_tokenize(str(t).decode('utf-8').strip().lower()) for t in data]\n",
    "\n",
    "train_data = preprocess(train_data)\n",
    "val_data = preprocess(val_data)\n",
    "test_data = preprocess(test_data)\n",
    "print(train_data[:1])"
   ]
  },
  {
   "cell_type": "code",
   "execution_count": 6,
   "metadata": {},
   "outputs": [
    {
     "name": "stdout",
     "output_type": "stream",
     "text": [
      "Vocabulary size: 14331\n",
      "Most frequent tokens\n",
      "\tthe: 2546\n",
      "\t:: 1928\n",
      "\tto: 1924\n",
      "\t’: 1843\n",
      "\t,: 1448\n",
      "\tof: 1412\n",
      "\tin: 1201\n",
      "\ttrump: 1052\n",
      "\ts: 952\n",
      "\ta: 926\n",
      "Least frequent tokens\n",
      "\tcorey: 1\n",
      "\tirony: 1\n",
      "\tyes…: 1\n",
      "\t11/4/16: 1\n",
      "\tzenit: 1\n",
      "\tlatakia: 1\n",
      "\tالكويتي: 1\n",
      "\tgoogle/amazon: 1\n",
      "\tlui-même: 1\n",
      "\tcliff: 1\n"
     ]
    }
   ],
   "source": [
    "# Prepare vocabulary\n",
    "full_vocab = dict()\n",
    "for instance in train_data:\n",
    "    for token in instance:\n",
    "        full_vocab[token] = 1 + full_vocab.get(token, 0)\n",
    "\n",
    "# Sort vocabulary by occurence\n",
    "sorted_vocab = sorted(full_vocab.keys(), key=lambda word: -full_vocab[word])\n",
    "\n",
    "# Print some samples\n",
    "print(\"Vocabulary size: %d\"%(len(sorted_vocab)))\n",
    "print(\"Most frequent tokens\")\n",
    "for i in range(10):\n",
    "    print(\"\\t%s: %d\"%(sorted_vocab[i], full_vocab[sorted_vocab[i]]))\n",
    "print(\"Least frequent tokens\")\n",
    "for i in range(1,11):\n",
    "    print(\"\\t%s: %d\"%(sorted_vocab[-i], full_vocab[sorted_vocab[-i]]))\n",
    "\n",
    "# We can choose to limit the vocab_size here to only a portion of the original vocab,\n",
    "# i.e. ignore infrequent tokens to save on memory\n",
    "vocab_size = VOCAB_SIZE\n",
    "    \n",
    "# Create final vocab\n",
    "word2idx = {w: idx for idx, w in enumerate(sorted_vocab[:vocab_size])}\n",
    "idx2word = {idx: w for idx, w in enumerate(sorted_vocab[:vocab_size])}\n",
    "\n",
    "\n",
    "word2idx[UNK_TOKEN] = vocab_size\n",
    "idx2word[vocab_size] = UNK_TOKEN\n",
    "vocab_size = vocab_size + 1"
   ]
  },
  {
   "cell_type": "code",
   "execution_count": 7,
   "metadata": {},
   "outputs": [
    {
     "name": "stdout",
     "output_type": "stream",
     "text": [
      "Number of tokens filtered out as unknown:\n",
      "Train: 23892/92733\n",
      "val: 8563/31434\n",
      "Test: 8620/31172\n"
     ]
    }
   ],
   "source": [
    "train_data = [[t if t in word2idx else UNK_TOKEN for t in instance] for instance in train_data]\n",
    "val_data = [[t if t in word2idx else UNK_TOKEN for t in instance] for instance in val_data]\n",
    "test_data = [[t if t in word2idx else UNK_TOKEN for t in instance] for instance in test_data]\n",
    "\n",
    "print(\"Number of tokens filtered out as unknown:\")\n",
    "print(\"Train: %d/%d\"%(len([1 for instance in train_data for t in instance if t == UNK_TOKEN]), sum([len(i) for i in train_data])))\n",
    "print(\"val: %d/%d\"%(len([1 for instance in val_data for t in instance if t == UNK_TOKEN]), sum([len(i) for i in val_data])))\n",
    "print(\"Test: %d/%d\"%(len([1 for instance in test_data for t in instance if t == UNK_TOKEN]), sum([len(i) for i in test_data])))"
   ]
  },
  {
   "cell_type": "code",
   "execution_count": 8,
   "metadata": {},
   "outputs": [
    {
     "name": "stdout",
     "output_type": "stream",
     "text": [
      "[0 1 2 3 4 5 6 7]\n",
      "[0 1 2 3 4 5 6 7]\n",
      "[0 1 3 4 5 6 7]\n",
      "1502\n"
     ]
    }
   ],
   "source": [
    "## data_to_tensor\n",
    "# Given a list of instances, where each instance is a list of tokens,\n",
    "# this function does the following:\n",
    "# 1: Replace each token with its corresponding index\n",
    "# 2: Pad sequences to MAX_SEQUENCE_LENGTH (or truncate them if longer)\n",
    "#       Padding is done with a unique element, in this case `vocab_size`\n",
    "#       The network will learn that this unique element is padding and does not\n",
    "#        mean anything semantically\n",
    "# 3: Package everything nicely as a NUM_INSTANCES x MAX_SEQUENCE_LENGTH matrix\n",
    "def data_to_tensor(data):\n",
    "    # First convert from words to indices\n",
    "    idx_data = [[word2idx[t] for t in instance] for instance in data]\n",
    "    \n",
    "    # Create numpy representation\n",
    "    return pad_sequences([np.array(d) for d in idx_data], maxlen=MAX_SEQUENCE_LENGTH, dtype='int32', padding='pre', truncating='pre', value=vocab_size)\n",
    "\n",
    "X_train = data_to_tensor(train_data)\n",
    "y_train = to_categorical(np.array(train_labels, dtype=np.int))\n",
    "print(np.unique(train_labels))\n",
    "\n",
    "X_val = data_to_tensor(val_data)\n",
    "y_val = to_categorical(np.array(val_labels, dtype=np.int))\n",
    "print(np.unique(val_labels))\n",
    "X_test = data_to_tensor(test_data)\n",
    "y_test = to_categorical(np.array(test_labels, dtype=np.int))\n",
    "print(np.unique(test_labels))\n",
    "\n",
    "vocab_size = vocab_size + 1 # Add 1 for the padding token\n",
    "print(vocab_size)"
   ]
  },
  {
   "cell_type": "code",
   "execution_count": 9,
   "metadata": {},
   "outputs": [
    {
     "name": "stdout",
     "output_type": "stream",
     "text": [
      "8\n"
     ]
    }
   ],
   "source": [
    "def idx_to_bow(data):\n",
    "    data_bow = np.zeros((data.shape[0], vocab_size)) \n",
    "    for i in range(data.shape[1]):\n",
    "        data_bow[np.arange(data.shape[0]), data[:, i]] = 1\n",
    "    return data_bow\n",
    "\n",
    "X_train_bow = idx_to_bow(X_train)\n",
    "X_val_bow = idx_to_bow(X_val)\n",
    "X_test_bow = idx_to_bow(X_test)\n",
    "print(len(emotions))"
   ]
  },
  {
   "cell_type": "code",
   "execution_count": 10,
   "metadata": {},
   "outputs": [
    {
     "name": "stdout",
     "output_type": "stream",
     "text": [
      "_________________________________________________________________\n",
      "Layer (type)                 Output Shape              Param #   \n",
      "=================================================================\n",
      "dense_1 (Dense)              (None, 25)                37575     \n",
      "_________________________________________________________________\n",
      "dropout_1 (Dropout)          (None, 25)                0         \n",
      "_________________________________________________________________\n",
      "dense_2 (Dense)              (None, 8)                 208       \n",
      "_________________________________________________________________\n",
      "softmax_1 (Softmax)          (None, 8)                 0         \n",
      "=================================================================\n",
      "Total params: 37,783\n",
      "Trainable params: 37,783\n",
      "Non-trainable params: 0\n",
      "_________________________________________________________________\n"
     ]
    }
   ],
   "source": [
    "model = Sequential()\n",
    "model.add(Dense(25, input_shape=(vocab_size,), activation='relu', kernel_regularizer=regularizers.l2(0.01)))\n",
    "model.add(Dropout(0.25))\n",
    "model.add(Dense(len(emotions)))\n",
    "model.add(Softmax())\n",
    "model.compile(loss='categorical_crossentropy',\n",
    "              optimizer='adam',\n",
    "              metrics=['acc'])\n",
    "model.summary()"
   ]
  },
  {
   "cell_type": "code",
   "execution_count": 12,
   "metadata": {},
   "outputs": [
    {
     "name": "stdout",
     "output_type": "stream",
     "text": [
      "Train on 7800 samples, validate on 2599 samples\n",
      "Epoch 1/100\n",
      "7800/7800 [==============================] - 1s 87us/step - loss: 0.5482 - acc: 0.8853 - val_loss: 0.5161 - val_acc: 0.8888\n",
      "Epoch 2/100\n",
      "7800/7800 [==============================] - 1s 79us/step - loss: 0.5448 - acc: 0.8847 - val_loss: 0.5148 - val_acc: 0.8888\n",
      "Epoch 3/100\n",
      "7800/7800 [==============================] - 1s 77us/step - loss: 0.5444 - acc: 0.8849 - val_loss: 0.5134 - val_acc: 0.8896\n",
      "Epoch 4/100\n",
      "7800/7800 [==============================] - 1s 78us/step - loss: 0.5414 - acc: 0.8851 - val_loss: 0.5097 - val_acc: 0.8892\n",
      "Epoch 5/100\n",
      "7800/7800 [==============================] - 1s 87us/step - loss: 0.5352 - acc: 0.8859 - val_loss: 0.5091 - val_acc: 0.8903\n",
      "Epoch 6/100\n",
      "7800/7800 [==============================] - 1s 92us/step - loss: 0.5354 - acc: 0.8862 - val_loss: 0.5098 - val_acc: 0.8896\n",
      "Epoch 7/100\n",
      "7800/7800 [==============================] - 1s 80us/step - loss: 0.5339 - acc: 0.8865 - val_loss: 0.5092 - val_acc: 0.8888\n",
      "Epoch 8/100\n",
      "7800/7800 [==============================] - 1s 78us/step - loss: 0.5267 - acc: 0.8874 - val_loss: 0.5061 - val_acc: 0.8903\n",
      "Epoch 9/100\n",
      "7800/7800 [==============================] - 1s 76us/step - loss: 0.5269 - acc: 0.8862 - val_loss: 0.5056 - val_acc: 0.8903\n",
      "Epoch 10/100\n",
      "7800/7800 [==============================] - 1s 75us/step - loss: 0.5240 - acc: 0.8873 - val_loss: 0.5050 - val_acc: 0.8927\n",
      "Epoch 11/100\n",
      "7800/7800 [==============================] - 1s 77us/step - loss: 0.5253 - acc: 0.8867 - val_loss: 0.5038 - val_acc: 0.8919\n",
      "Epoch 12/100\n",
      "7800/7800 [==============================] - 1s 112us/step - loss: 0.5213 - acc: 0.8883 - val_loss: 0.5012 - val_acc: 0.8915\n",
      "Epoch 13/100\n",
      "7800/7800 [==============================] - 1s 93us/step - loss: 0.5190 - acc: 0.8890 - val_loss: 0.5031 - val_acc: 0.8911\n",
      "Epoch 14/100\n",
      "7800/7800 [==============================] - 1s 78us/step - loss: 0.5192 - acc: 0.8886 - val_loss: 0.5001 - val_acc: 0.8911\n",
      "Epoch 15/100\n",
      "7800/7800 [==============================] - 1s 79us/step - loss: 0.5147 - acc: 0.8882 - val_loss: 0.4980 - val_acc: 0.8938\n",
      "Epoch 16/100\n",
      "7800/7800 [==============================] - 1s 78us/step - loss: 0.5142 - acc: 0.8888 - val_loss: 0.4988 - val_acc: 0.8930\n",
      "Epoch 17/100\n",
      "7800/7800 [==============================] - 1s 109us/step - loss: 0.5123 - acc: 0.8891 - val_loss: 0.4982 - val_acc: 0.8938\n",
      "Epoch 18/100\n",
      "7800/7800 [==============================] - 1s 88us/step - loss: 0.5106 - acc: 0.8895 - val_loss: 0.4980 - val_acc: 0.8950\n",
      "Epoch 19/100\n",
      "7800/7800 [==============================] - 1s 80us/step - loss: 0.5048 - acc: 0.8892 - val_loss: 0.4963 - val_acc: 0.8930\n",
      "Epoch 20/100\n",
      "7800/7800 [==============================] - 1s 79us/step - loss: 0.5048 - acc: 0.8897 - val_loss: 0.4970 - val_acc: 0.8915\n",
      "Epoch 21/100\n",
      "7800/7800 [==============================] - 1s 88us/step - loss: 0.5007 - acc: 0.8885 - val_loss: 0.4934 - val_acc: 0.8946\n",
      "Epoch 22/100\n",
      "7800/7800 [==============================] - 1s 108us/step - loss: 0.5030 - acc: 0.8896 - val_loss: 0.4957 - val_acc: 0.8927\n",
      "Epoch 23/100\n",
      "7800/7800 [==============================] - 1s 88us/step - loss: 0.4995 - acc: 0.8896 - val_loss: 0.4950 - val_acc: 0.8942\n",
      "Epoch 24/100\n",
      "7800/7800 [==============================] - 1s 79us/step - loss: 0.4973 - acc: 0.8901 - val_loss: 0.4916 - val_acc: 0.8946\n",
      "Epoch 25/100\n",
      "7800/7800 [==============================] - 1s 78us/step - loss: 0.4928 - acc: 0.8914 - val_loss: 0.4916 - val_acc: 0.8942\n",
      "Epoch 26/100\n",
      "7800/7800 [==============================] - 1s 79us/step - loss: 0.4941 - acc: 0.8904 - val_loss: 0.4960 - val_acc: 0.8938\n",
      "Epoch 27/100\n",
      "7800/7800 [==============================] - 1s 83us/step - loss: 0.4924 - acc: 0.8895 - val_loss: 0.4917 - val_acc: 0.8942\n",
      "Epoch 28/100\n",
      "7800/7800 [==============================] - 1s 107us/step - loss: 0.4883 - acc: 0.8906 - val_loss: 0.4885 - val_acc: 0.8957\n",
      "Epoch 29/100\n",
      "7800/7800 [==============================] - 1s 91us/step - loss: 0.4882 - acc: 0.8903 - val_loss: 0.4971 - val_acc: 0.8957\n",
      "Epoch 30/100\n",
      "7800/7800 [==============================] - 1s 79us/step - loss: 0.4900 - acc: 0.8912 - val_loss: 0.4935 - val_acc: 0.8957\n",
      "Epoch 31/100\n",
      "7800/7800 [==============================] - 1s 79us/step - loss: 0.4842 - acc: 0.8917 - val_loss: 0.4908 - val_acc: 0.8973\n",
      "Epoch 32/100\n",
      "7800/7800 [==============================] - 1s 80us/step - loss: 0.4823 - acc: 0.8915 - val_loss: 0.4947 - val_acc: 0.8965\n",
      "Epoch 33/100\n",
      "7800/7800 [==============================] - 1s 104us/step - loss: 0.4858 - acc: 0.8906 - val_loss: 0.4905 - val_acc: 0.8946\n",
      "Epoch 34/100\n",
      "7800/7800 [==============================] - 1s 87us/step - loss: 0.4808 - acc: 0.8915 - val_loss: 0.4905 - val_acc: 0.8961\n",
      "Epoch 35/100\n",
      "7800/7800 [==============================] - 1s 80us/step - loss: 0.4769 - acc: 0.8917 - val_loss: 0.4905 - val_acc: 0.8973\n",
      "Epoch 36/100\n",
      "7800/7800 [==============================] - 1s 82us/step - loss: 0.4786 - acc: 0.8926 - val_loss: 0.4957 - val_acc: 0.8927\n",
      "Epoch 37/100\n",
      "7800/7800 [==============================] - 1s 87us/step - loss: 0.4747 - acc: 0.8915 - val_loss: 0.4938 - val_acc: 0.8946\n",
      "Epoch 38/100\n",
      "7800/7800 [==============================] - 1s 114us/step - loss: 0.4744 - acc: 0.8918 - val_loss: 0.4879 - val_acc: 0.8973\n",
      "Epoch 39/100\n",
      "7800/7800 [==============================] - 1s 95us/step - loss: 0.4714 - acc: 0.8933 - val_loss: 0.4894 - val_acc: 0.8965\n",
      "Epoch 40/100\n",
      "7800/7800 [==============================] - 1s 91us/step - loss: 0.4720 - acc: 0.8923 - val_loss: 0.4882 - val_acc: 0.8950\n",
      "Epoch 41/100\n",
      "7800/7800 [==============================] - 1s 87us/step - loss: 0.4675 - acc: 0.8932 - val_loss: 0.4907 - val_acc: 0.8953\n",
      "Epoch 42/100\n",
      "7800/7800 [==============================] - 1s 113us/step - loss: 0.4693 - acc: 0.8928 - val_loss: 0.5055 - val_acc: 0.8927\n",
      "Epoch 43/100\n",
      "7800/7800 [==============================] - 1s 95us/step - loss: 0.4685 - acc: 0.8940 - val_loss: 0.4947 - val_acc: 0.8965\n",
      "Epoch 44/100\n",
      "7800/7800 [==============================] - 1s 90us/step - loss: 0.4695 - acc: 0.8932 - val_loss: 0.4904 - val_acc: 0.8965\n",
      "Epoch 45/100\n",
      "7800/7800 [==============================] - 1s 95us/step - loss: 0.4635 - acc: 0.8938 - val_loss: 0.4870 - val_acc: 0.8977\n",
      "Epoch 46/100\n",
      "7800/7800 [==============================] - 1s 93us/step - loss: 0.4635 - acc: 0.8935 - val_loss: 0.4868 - val_acc: 0.8977\n",
      "Epoch 47/100\n",
      "7800/7800 [==============================] - 1s 100us/step - loss: 0.4602 - acc: 0.8944 - val_loss: 0.4893 - val_acc: 0.8969\n",
      "Epoch 48/100\n",
      "7800/7800 [==============================] - 1s 94us/step - loss: 0.4606 - acc: 0.8949 - val_loss: 0.4888 - val_acc: 0.8973\n",
      "Epoch 49/100\n",
      "7800/7800 [==============================] - 1s 91us/step - loss: 0.4582 - acc: 0.8942 - val_loss: 0.4925 - val_acc: 0.8961\n",
      "Epoch 50/100\n",
      "7800/7800 [==============================] - 1s 98us/step - loss: 0.4549 - acc: 0.8945 - val_loss: 0.4904 - val_acc: 0.8980\n",
      "Epoch 51/100\n",
      "7800/7800 [==============================] - 1s 86us/step - loss: 0.4570 - acc: 0.8954 - val_loss: 0.4911 - val_acc: 0.8965\n",
      "Epoch 52/100\n",
      "7800/7800 [==============================] - 1s 101us/step - loss: 0.4499 - acc: 0.8967 - val_loss: 0.4940 - val_acc: 0.8953\n",
      "Epoch 53/100\n",
      "7800/7800 [==============================] - 1s 94us/step - loss: 0.4554 - acc: 0.8938 - val_loss: 0.4943 - val_acc: 0.8965\n",
      "Epoch 54/100\n",
      "7800/7800 [==============================] - 1s 89us/step - loss: 0.4524 - acc: 0.8956 - val_loss: 0.4933 - val_acc: 0.8965\n",
      "Epoch 55/100\n",
      "7800/7800 [==============================] - 1s 95us/step - loss: 0.4467 - acc: 0.8967 - val_loss: 0.4977 - val_acc: 0.8984\n",
      "Epoch 56/100\n",
      "7800/7800 [==============================] - 1s 86us/step - loss: 0.4502 - acc: 0.8954 - val_loss: 0.4979 - val_acc: 0.8957\n",
      "Epoch 57/100\n",
      "7800/7800 [==============================] - 1s 96us/step - loss: 0.4500 - acc: 0.8947 - val_loss: 0.4939 - val_acc: 0.8969\n",
      "Epoch 58/100\n",
      "7800/7800 [==============================] - 1s 97us/step - loss: 0.4454 - acc: 0.8964 - val_loss: 0.5019 - val_acc: 0.8953\n",
      "Epoch 59/100\n",
      "7800/7800 [==============================] - 1s 101us/step - loss: 0.4470 - acc: 0.8968 - val_loss: 0.5014 - val_acc: 0.8953\n",
      "Epoch 60/100\n"
     ]
    },
    {
     "name": "stdout",
     "output_type": "stream",
     "text": [
      "7800/7800 [==============================] - 1s 103us/step - loss: 0.4463 - acc: 0.8959 - val_loss: 0.4942 - val_acc: 0.8961\n",
      "Epoch 61/100\n",
      "7800/7800 [==============================] - 1s 95us/step - loss: 0.4429 - acc: 0.8967 - val_loss: 0.4955 - val_acc: 0.8957\n",
      "Epoch 62/100\n",
      "7800/7800 [==============================] - 1s 95us/step - loss: 0.4451 - acc: 0.8963 - val_loss: 0.4973 - val_acc: 0.8969\n",
      "Epoch 63/100\n",
      "7800/7800 [==============================] - 1s 91us/step - loss: 0.4389 - acc: 0.8968 - val_loss: 0.4951 - val_acc: 0.8969\n",
      "Epoch 64/100\n",
      "7800/7800 [==============================] - 1s 98us/step - loss: 0.4380 - acc: 0.8960 - val_loss: 0.4951 - val_acc: 0.8977\n",
      "Epoch 65/100\n",
      "7800/7800 [==============================] - 1s 91us/step - loss: 0.4406 - acc: 0.8955 - val_loss: 0.4921 - val_acc: 0.8984\n",
      "Epoch 66/100\n",
      "7800/7800 [==============================] - 1s 97us/step - loss: 0.4368 - acc: 0.8982 - val_loss: 0.4948 - val_acc: 0.8980\n",
      "Epoch 67/100\n",
      "7800/7800 [==============================] - 1s 99us/step - loss: 0.4355 - acc: 0.8978 - val_loss: 0.4998 - val_acc: 0.8973\n",
      "Epoch 68/100\n",
      "7800/7800 [==============================] - 1s 98us/step - loss: 0.4343 - acc: 0.8974 - val_loss: 0.5003 - val_acc: 0.8969\n",
      "Epoch 69/100\n",
      "7800/7800 [==============================] - 1s 101us/step - loss: 0.4340 - acc: 0.8987 - val_loss: 0.4942 - val_acc: 0.8973\n",
      "Epoch 70/100\n",
      "7800/7800 [==============================] - 1s 99us/step - loss: 0.4324 - acc: 0.8994 - val_loss: 0.5018 - val_acc: 0.8957\n",
      "Epoch 71/100\n",
      "7800/7800 [==============================] - 1s 96us/step - loss: 0.4318 - acc: 0.8985 - val_loss: 0.4978 - val_acc: 0.8957\n",
      "Epoch 72/100\n",
      "7800/7800 [==============================] - 1s 102us/step - loss: 0.4299 - acc: 0.8999 - val_loss: 0.4979 - val_acc: 0.8961\n",
      "Epoch 73/100\n",
      "7800/7800 [==============================] - 1s 107us/step - loss: 0.4264 - acc: 0.9008 - val_loss: 0.4987 - val_acc: 0.8973\n",
      "Epoch 74/100\n",
      "7800/7800 [==============================] - 1s 96us/step - loss: 0.4303 - acc: 0.8983 - val_loss: 0.5032 - val_acc: 0.8965\n",
      "Epoch 75/100\n",
      "7800/7800 [==============================] - 1s 98us/step - loss: 0.4283 - acc: 0.8982 - val_loss: 0.4982 - val_acc: 0.8969\n",
      "Epoch 76/100\n",
      "7800/7800 [==============================] - 1s 95us/step - loss: 0.4262 - acc: 0.9000 - val_loss: 0.4968 - val_acc: 0.8969\n",
      "Epoch 77/100\n",
      "7800/7800 [==============================] - 1s 93us/step - loss: 0.4256 - acc: 0.9008 - val_loss: 0.4953 - val_acc: 0.8965\n",
      "Epoch 78/100\n",
      "7800/7800 [==============================] - 1s 103us/step - loss: 0.4278 - acc: 0.8990 - val_loss: 0.4977 - val_acc: 0.8957\n",
      "Epoch 79/100\n",
      "7800/7800 [==============================] - 1s 99us/step - loss: 0.4203 - acc: 0.9006 - val_loss: 0.5009 - val_acc: 0.8961\n",
      "Epoch 80/100\n",
      "7800/7800 [==============================] - 1s 93us/step - loss: 0.4265 - acc: 0.8992 - val_loss: 0.4968 - val_acc: 0.8973\n",
      "Epoch 81/100\n",
      "7800/7800 [==============================] - 1s 107us/step - loss: 0.4248 - acc: 0.9019 - val_loss: 0.5050 - val_acc: 0.8969\n",
      "Epoch 82/100\n",
      "7800/7800 [==============================] - 1s 99us/step - loss: 0.4216 - acc: 0.8997 - val_loss: 0.5008 - val_acc: 0.8984\n",
      "Epoch 83/100\n",
      "7800/7800 [==============================] - 1s 91us/step - loss: 0.4188 - acc: 0.9015 - val_loss: 0.5064 - val_acc: 0.8961\n",
      "Epoch 84/100\n",
      "7800/7800 [==============================] - 1s 92us/step - loss: 0.4200 - acc: 0.8999 - val_loss: 0.5037 - val_acc: 0.8977\n",
      "Epoch 85/100\n",
      "7800/7800 [==============================] - 1s 100us/step - loss: 0.4237 - acc: 0.9014 - val_loss: 0.4998 - val_acc: 0.8965\n",
      "Epoch 86/100\n",
      "7800/7800 [==============================] - 1s 100us/step - loss: 0.4145 - acc: 0.9028 - val_loss: 0.5055 - val_acc: 0.8969\n",
      "Epoch 87/100\n",
      "7800/7800 [==============================] - 1s 95us/step - loss: 0.4147 - acc: 0.9015 - val_loss: 0.5063 - val_acc: 0.8965\n",
      "Epoch 88/100\n",
      "7800/7800 [==============================] - 1s 108us/step - loss: 0.4173 - acc: 0.9023 - val_loss: 0.5015 - val_acc: 0.8965\n",
      "Epoch 89/100\n",
      "7800/7800 [==============================] - 1s 106us/step - loss: 0.4124 - acc: 0.9031 - val_loss: 0.5064 - val_acc: 0.8957\n",
      "Epoch 90/100\n",
      "7800/7800 [==============================] - 1s 98us/step - loss: 0.4134 - acc: 0.9017 - val_loss: 0.5020 - val_acc: 0.8988\n",
      "Epoch 91/100\n",
      "7800/7800 [==============================] - 1s 96us/step - loss: 0.4156 - acc: 0.9027 - val_loss: 0.5023 - val_acc: 0.8969\n",
      "Epoch 92/100\n",
      "7800/7800 [==============================] - 1s 101us/step - loss: 0.4118 - acc: 0.9019 - val_loss: 0.5168 - val_acc: 0.8965\n",
      "Epoch 93/100\n",
      "7800/7800 [==============================] - 1s 109us/step - loss: 0.4124 - acc: 0.9024 - val_loss: 0.5050 - val_acc: 0.8977\n",
      "Epoch 94/100\n",
      "7800/7800 [==============================] - 1s 103us/step - loss: 0.4090 - acc: 0.9049 - val_loss: 0.5079 - val_acc: 0.8965\n",
      "Epoch 95/100\n",
      "7800/7800 [==============================] - 1s 97us/step - loss: 0.4110 - acc: 0.9032 - val_loss: 0.5138 - val_acc: 0.8973\n",
      "Epoch 96/100\n",
      "7800/7800 [==============================] - 1s 109us/step - loss: 0.4114 - acc: 0.9029 - val_loss: 0.5201 - val_acc: 0.8965\n",
      "Epoch 97/100\n",
      "7800/7800 [==============================] - 1s 111us/step - loss: 0.4106 - acc: 0.9018 - val_loss: 0.5042 - val_acc: 0.8977\n",
      "Epoch 98/100\n",
      "7800/7800 [==============================] - 1s 109us/step - loss: 0.4109 - acc: 0.9005 - val_loss: 0.5105 - val_acc: 0.8957\n",
      "Epoch 99/100\n",
      "7800/7800 [==============================] - 1s 109us/step - loss: 0.4066 - acc: 0.9036 - val_loss: 0.5142 - val_acc: 0.8961\n",
      "Epoch 100/100\n",
      "7800/7800 [==============================] - 1s 99us/step - loss: 0.4064 - acc: 0.9044 - val_loss: 0.5116 - val_acc: 0.8984\n"
     ]
    },
    {
     "data": {
      "text/plain": [
       "<keras.callbacks.History at 0x103ccc8d0>"
      ]
     },
     "execution_count": 12,
     "metadata": {},
     "output_type": "execute_result"
    }
   ],
   "source": [
    "model.fit(X_train_bow, y_train, epochs=100, validation_data=(X_val_bow, y_val))"
   ]
  },
  {
   "cell_type": "code",
   "execution_count": null,
   "metadata": {
    "collapsed": true
   },
   "outputs": [],
   "source": []
  }
 ],
 "metadata": {
  "kernelspec": {
   "display_name": "Python 2",
   "language": "python",
   "name": "python2"
  },
  "language_info": {
   "codemirror_mode": {
    "name": "ipython",
    "version": 2
   },
   "file_extension": ".py",
   "mimetype": "text/x-python",
   "name": "python",
   "nbconvert_exporter": "python",
   "pygments_lexer": "ipython2",
   "version": "2.7.14"
  }
 },
 "nbformat": 4,
 "nbformat_minor": 2
}
